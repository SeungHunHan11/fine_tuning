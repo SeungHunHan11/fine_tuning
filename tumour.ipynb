{
 "cells": [
  {
   "cell_type": "code",
   "execution_count": 13,
   "metadata": {},
   "outputs": [],
   "source": [
    "import pandas as pd\n",
    "import sys\n",
    "import glob\n",
    "from torchvision import transforms\n",
    "from sklearn.model_selection import train_test_split\n",
    "from torch.utils.data import DataLoader\n",
    "from torchvision import models\n",
    "import torch.nn as nn\n",
    "import warnings\n",
    "warnings.filterwarnings(\"ignore\", category=UserWarning)\n",
    "\n",
    "sys.path.append('finetuning/')\n",
    "from utils import *\n",
    "\n",
    "device = 'cuda' if torch.cuda.is_available() else 'cpu'"
   ]
  },
  {
   "cell_type": "code",
   "execution_count": 4,
   "metadata": {},
   "outputs": [],
   "source": [
    "df=pd.DataFrame()\n",
    "df['image']=glob.glob('./lemon_dataset/*/*.jpg')\n",
    "df['label']=df.image.str.contains('good')"
   ]
  },
  {
   "cell_type": "code",
   "execution_count": 5,
   "metadata": {},
   "outputs": [],
   "source": [
    "set_seed(1998,device)\n",
    "\n",
    "X_train, X_test, y_train, y_test=train_test_split(\n",
    "    df['image'],df['label'],test_size=0.2,random_state=1998,shuffle=True,\n",
    "    stratify=df['label'])\n",
    "\n",
    "X_train, X_val, y_train, y_val=train_test_split(\n",
    "    X_train,y_train,test_size=0.3,random_state=1998,shuffle=True,\n",
    "    stratify=y_train)"
   ]
  },
  {
   "cell_type": "code",
   "execution_count": 6,
   "metadata": {},
   "outputs": [],
   "source": [
    "data_transforms = transforms.Compose([\n",
    "        transforms.ToPILImage(),\n",
    "        transforms.RandomResizedCrop(300),\n",
    "        transforms.ToTensor(),\n",
    "        transforms.Normalize([0.485, 0.456, 0.406], [0.229, 0.224, 0.225])\n",
    "    ])"
   ]
  },
  {
   "cell_type": "code",
   "execution_count": 7,
   "metadata": {},
   "outputs": [],
   "source": [
    "train_ds=dataset(X_train,data_transforms)\n",
    "val_ds=dataset(X_train,data_transforms)\n",
    "test_ds=dataset(X_test,data_transforms)\n",
    "\n",
    "train_loader=DataLoader(train_ds,batch_size=8,\n",
    "shuffle=True,num_workers=0,drop_last=True)\n",
    "\n",
    "val_loader=DataLoader(val_ds,batch_size=8,\n",
    "shuffle=True,num_workers=0,drop_last=True)\n",
    "\n",
    "test_loader=DataLoader(test_ds,batch_size=8,\n",
    "shuffle=True,num_workers=0,drop_last=True)"
   ]
  },
  {
   "cell_type": "code",
   "execution_count": 8,
   "metadata": {},
   "outputs": [
    {
     "name": "stderr",
     "output_type": "stream",
     "text": [
      "c:\\Users\\icako\\anaconda3\\envs\\Seung\\lib\\site-packages\\torchvision\\models\\_utils.py:208: UserWarning: The parameter 'pretrained' is deprecated since 0.13 and will be removed in 0.15, please use 'weights' instead.\n",
      "  warnings.warn(\n",
      "c:\\Users\\icako\\anaconda3\\envs\\Seung\\lib\\site-packages\\torchvision\\models\\_utils.py:223: UserWarning: Arguments other than a weight enum or `None` for 'weights' are deprecated since 0.13 and will be removed in 0.15. The current behavior is equivalent to passing `weights=ResNet50_Weights.IMAGENET1K_V1`. You can also use `weights=ResNet50_Weights.DEFAULT` to get the most up-to-date weights.\n",
      "  warnings.warn(msg)\n"
     ]
    }
   ],
   "source": [
    "pretrained_resnet50 = models.resnet50(pretrained=True).to(device)\n",
    "\n",
    "for param in pretrained_resnet50.parameters():\n",
    "    param.requires_grad=False\n",
    "    \n",
    "in_features=pretrained_resnet50.fc.in_features\n",
    "pretrained_resnet50.fc = nn.Linear(in_features, 1).to(device)"
   ]
  },
  {
   "cell_type": "code",
   "execution_count": null,
   "metadata": {},
   "outputs": [],
   "source": [
    "#from torchsummary import summary\n",
    "#summary(pretrained_resnet50, input_size=(3, 300, 300))"
   ]
  },
  {
   "cell_type": "code",
   "execution_count": 9,
   "metadata": {},
   "outputs": [],
   "source": [
    "from train import *"
   ]
  },
  {
   "cell_type": "code",
   "execution_count": 10,
   "metadata": {},
   "outputs": [],
   "source": [
    "criterion= nn.BCEWithLogitsLoss()"
   ]
  },
  {
   "cell_type": "code",
   "execution_count": 54,
   "metadata": {},
   "outputs": [
    {
     "name": "stderr",
     "output_type": "stream",
     "text": [
      "100%|██████████| 1/1 [00:21<00:00, 21.58s/it]"
     ]
    },
    {
     "name": "stdout",
     "output_type": "stream",
     "text": [
      "Best Trial Renewed\n",
      "\n",
      "        Train Accuracy is 0.822\n",
      "        Validation Accuracy is 0.829\n",
      "        Current best Accuracy is 0.829\n",
      "        \n"
     ]
    },
    {
     "name": "stderr",
     "output_type": "stream",
     "text": [
      "\n"
     ]
    }
   ],
   "source": [
    "from torch.utils.tensorboard import SummaryWriter\n",
    "from torchsummary import summary\n",
    "import datetime\n",
    "\n",
    "time_stamp = str(datetime.datetime.now().timestamp())\n",
    "log_dir = 'runs/resnet' + time_stamp # runs 경로\n",
    "#writer = SummaryWriter(log_dir)\n",
    "\n",
    "#%load_ext tensorboard\n",
    "\n",
    "# 텐보 로드\n",
    "#%tensorboard --logdir logs/tensorboard\n",
    "\n",
    "\n",
    "train(pretrained_resnet50,train_loader,\n",
    "val_loader,criterion,1,0.00005,device,weight_name='output_trained_once')"
   ]
  },
  {
   "cell_type": "code",
   "execution_count": 55,
   "metadata": {},
   "outputs": [],
   "source": [
    "resnet50 = models.resnet50(pretrained=False).to(device)\n",
    "resnet50.fc = nn.Linear(resnet50.fc.in_features, 1).to(device)\n",
    "model=torch.load('./runs/resnet/output_trained_once.pt')\n",
    "resnet50.fc.weight=nn.Parameter(model['fc.weight']) #Resnet backbone에 출력층 학습된 것만 사용"
   ]
  },
  {
   "cell_type": "code",
   "execution_count": 56,
   "metadata": {},
   "outputs": [
    {
     "name": "stderr",
     "output_type": "stream",
     "text": [
      "  2%|▏         | 1/50 [00:35<28:46, 35.24s/it]"
     ]
    },
    {
     "name": "stdout",
     "output_type": "stream",
     "text": [
      "Best Trial Renewed\n",
      "\n",
      "        Train Accuracy is 0.767\n",
      "        Validation Accuracy is 0.914\n",
      "        Current best Accuracy is 0.914\n",
      "        \n"
     ]
    },
    {
     "name": "stderr",
     "output_type": "stream",
     "text": [
      "  4%|▍         | 2/50 [01:06<26:15, 32.83s/it]"
     ]
    },
    {
     "name": "stdout",
     "output_type": "stream",
     "text": [
      "\n",
      "        Train Accuracy is 0.783\n",
      "        Validation Accuracy is 0.903\n",
      "        Current best Accuracy is 0.914\n",
      "        \n"
     ]
    },
    {
     "name": "stderr",
     "output_type": "stream",
     "text": [
      "  6%|▌         | 3/50 [01:37<25:12, 32.18s/it]"
     ]
    },
    {
     "name": "stdout",
     "output_type": "stream",
     "text": [
      "Best Trial Renewed\n",
      "\n",
      "        Train Accuracy is 0.893\n",
      "        Validation Accuracy is 0.939\n",
      "        Current best Accuracy is 0.939\n",
      "        \n"
     ]
    },
    {
     "name": "stderr",
     "output_type": "stream",
     "text": [
      "  8%|▊         | 4/50 [02:09<24:24, 31.83s/it]"
     ]
    },
    {
     "name": "stdout",
     "output_type": "stream",
     "text": [
      "\n",
      "        Train Accuracy is 0.9\n",
      "        Validation Accuracy is 0.888\n",
      "        Current best Accuracy is 0.939\n",
      "        \n"
     ]
    },
    {
     "name": "stderr",
     "output_type": "stream",
     "text": [
      " 10%|█         | 5/50 [02:41<23:59, 31.98s/it]"
     ]
    },
    {
     "name": "stdout",
     "output_type": "stream",
     "text": [
      "Best Trial Renewed\n",
      "\n",
      "        Train Accuracy is 0.925\n",
      "        Validation Accuracy is 0.947\n",
      "        Current best Accuracy is 0.947\n",
      "        \n"
     ]
    },
    {
     "name": "stderr",
     "output_type": "stream",
     "text": [
      " 12%|█▏        | 6/50 [03:14<23:48, 32.46s/it]"
     ]
    },
    {
     "name": "stdout",
     "output_type": "stream",
     "text": [
      "\n",
      "        Train Accuracy is 0.935\n",
      "        Validation Accuracy is 0.922\n",
      "        Current best Accuracy is 0.947\n",
      "        \n"
     ]
    },
    {
     "name": "stderr",
     "output_type": "stream",
     "text": [
      " 14%|█▍        | 7/50 [03:35<20:25, 28.49s/it]"
     ]
    },
    {
     "name": "stdout",
     "output_type": "stream",
     "text": [
      "Best Trial Renewed\n",
      "\n",
      "        Train Accuracy is 0.941\n",
      "        Validation Accuracy is 0.953\n",
      "        Current best Accuracy is 0.953\n",
      "        \n"
     ]
    },
    {
     "name": "stderr",
     "output_type": "stream",
     "text": [
      " 16%|█▌        | 8/50 [03:55<18:07, 25.90s/it]"
     ]
    },
    {
     "name": "stdout",
     "output_type": "stream",
     "text": [
      "Best Trial Renewed\n",
      "\n",
      "        Train Accuracy is 0.953\n",
      "        Validation Accuracy is 0.981\n",
      "        Current best Accuracy is 0.981\n",
      "        \n"
     ]
    },
    {
     "name": "stderr",
     "output_type": "stream",
     "text": [
      " 18%|█▊        | 9/50 [04:15<16:32, 24.20s/it]"
     ]
    },
    {
     "name": "stdout",
     "output_type": "stream",
     "text": [
      "\n",
      "        Train Accuracy is 0.958\n",
      "        Validation Accuracy is 0.969\n",
      "        Current best Accuracy is 0.981\n",
      "        \n"
     ]
    },
    {
     "name": "stderr",
     "output_type": "stream",
     "text": [
      " 20%|██        | 10/50 [04:36<15:21, 23.04s/it]"
     ]
    },
    {
     "name": "stdout",
     "output_type": "stream",
     "text": [
      "\n",
      "        Train Accuracy is 0.97\n",
      "        Validation Accuracy is 0.978\n",
      "        Current best Accuracy is 0.981\n",
      "        \n"
     ]
    },
    {
     "name": "stderr",
     "output_type": "stream",
     "text": [
      " 22%|██▏       | 11/50 [04:58<14:47, 22.75s/it]"
     ]
    },
    {
     "name": "stdout",
     "output_type": "stream",
     "text": [
      "\n",
      "        Train Accuracy is 0.958\n",
      "        Validation Accuracy is 0.976\n",
      "        Current best Accuracy is 0.981\n",
      "        \n"
     ]
    },
    {
     "name": "stderr",
     "output_type": "stream",
     "text": [
      " 24%|██▍       | 12/50 [05:36<17:17, 27.31s/it]"
     ]
    },
    {
     "name": "stdout",
     "output_type": "stream",
     "text": [
      "\n",
      "        Train Accuracy is 0.973\n",
      "        Validation Accuracy is 0.972\n",
      "        Current best Accuracy is 0.981\n",
      "        \n"
     ]
    },
    {
     "name": "stderr",
     "output_type": "stream",
     "text": [
      " 26%|██▌       | 13/50 [06:11<18:16, 29.64s/it]"
     ]
    },
    {
     "name": "stdout",
     "output_type": "stream",
     "text": [
      "\n",
      "        Train Accuracy is 0.966\n",
      "        Validation Accuracy is 0.98\n",
      "        Current best Accuracy is 0.981\n",
      "        \n"
     ]
    },
    {
     "name": "stderr",
     "output_type": "stream",
     "text": [
      " 28%|██▊       | 14/50 [06:46<18:49, 31.38s/it]"
     ]
    },
    {
     "name": "stdout",
     "output_type": "stream",
     "text": [
      "\n",
      "        Train Accuracy is 0.959\n",
      "        Validation Accuracy is 0.969\n",
      "        Current best Accuracy is 0.981\n",
      "        \n"
     ]
    },
    {
     "name": "stderr",
     "output_type": "stream",
     "text": [
      " 30%|███       | 15/50 [07:21<18:52, 32.35s/it]"
     ]
    },
    {
     "name": "stdout",
     "output_type": "stream",
     "text": [
      "\n",
      "        Train Accuracy is 0.978\n",
      "        Validation Accuracy is 0.973\n",
      "        Current best Accuracy is 0.981\n",
      "        \n"
     ]
    },
    {
     "name": "stderr",
     "output_type": "stream",
     "text": [
      " 32%|███▏      | 16/50 [07:54<18:30, 32.66s/it]"
     ]
    },
    {
     "name": "stdout",
     "output_type": "stream",
     "text": [
      "\n",
      "        Train Accuracy is 0.944\n",
      "        Validation Accuracy is 0.914\n",
      "        Current best Accuracy is 0.981\n",
      "        \n"
     ]
    },
    {
     "name": "stderr",
     "output_type": "stream",
     "text": [
      " 34%|███▍      | 17/50 [08:31<18:38, 33.89s/it]"
     ]
    },
    {
     "name": "stdout",
     "output_type": "stream",
     "text": [
      "\n",
      "        Train Accuracy is 0.953\n",
      "        Validation Accuracy is 0.949\n",
      "        Current best Accuracy is 0.981\n",
      "        \n"
     ]
    },
    {
     "name": "stderr",
     "output_type": "stream",
     "text": [
      " 36%|███▌      | 18/50 [09:03<17:47, 33.35s/it]"
     ]
    },
    {
     "name": "stdout",
     "output_type": "stream",
     "text": [
      "\n",
      "        Train Accuracy is 0.959\n",
      "        Validation Accuracy is 0.966\n",
      "        Current best Accuracy is 0.981\n",
      "        \n"
     ]
    },
    {
     "name": "stderr",
     "output_type": "stream",
     "text": [
      " 38%|███▊      | 19/50 [09:36<17:09, 33.20s/it]"
     ]
    },
    {
     "name": "stdout",
     "output_type": "stream",
     "text": [
      "\n",
      "        Train Accuracy is 0.969\n",
      "        Validation Accuracy is 0.952\n",
      "        Current best Accuracy is 0.981\n",
      "        \n"
     ]
    },
    {
     "name": "stderr",
     "output_type": "stream",
     "text": [
      " 40%|████      | 20/50 [10:08<16:24, 32.81s/it]"
     ]
    },
    {
     "name": "stdout",
     "output_type": "stream",
     "text": [
      "\n",
      "        Train Accuracy is 0.954\n",
      "        Validation Accuracy is 0.969\n",
      "        Current best Accuracy is 0.981\n",
      "        \n"
     ]
    },
    {
     "name": "stderr",
     "output_type": "stream",
     "text": [
      " 42%|████▏     | 21/50 [10:41<16:00, 33.11s/it]"
     ]
    },
    {
     "name": "stdout",
     "output_type": "stream",
     "text": [
      "\n",
      "        Train Accuracy is 0.97\n",
      "        Validation Accuracy is 0.975\n",
      "        Current best Accuracy is 0.981\n",
      "        \n"
     ]
    },
    {
     "name": "stderr",
     "output_type": "stream",
     "text": [
      " 44%|████▍     | 22/50 [11:15<15:33, 33.34s/it]"
     ]
    },
    {
     "name": "stdout",
     "output_type": "stream",
     "text": [
      "\n",
      "        Train Accuracy is 0.969\n",
      "        Validation Accuracy is 0.978\n",
      "        Current best Accuracy is 0.981\n",
      "        \n"
     ]
    },
    {
     "name": "stderr",
     "output_type": "stream",
     "text": [
      " 46%|████▌     | 23/50 [11:52<15:30, 34.46s/it]"
     ]
    },
    {
     "name": "stdout",
     "output_type": "stream",
     "text": [
      "\n",
      "        Train Accuracy is 0.976\n",
      "        Validation Accuracy is 0.974\n",
      "        Current best Accuracy is 0.981\n",
      "        \n"
     ]
    },
    {
     "name": "stderr",
     "output_type": "stream",
     "text": [
      " 48%|████▊     | 24/50 [12:28<15:03, 34.75s/it]"
     ]
    },
    {
     "name": "stdout",
     "output_type": "stream",
     "text": [
      "\n",
      "        Train Accuracy is 0.959\n",
      "        Validation Accuracy is 0.972\n",
      "        Current best Accuracy is 0.981\n",
      "        \n"
     ]
    },
    {
     "name": "stderr",
     "output_type": "stream",
     "text": [
      " 50%|█████     | 25/50 [13:03<14:31, 34.86s/it]"
     ]
    },
    {
     "name": "stdout",
     "output_type": "stream",
     "text": [
      "Best Trial Renewed\n",
      "\n",
      "        Train Accuracy is 0.974\n",
      "        Validation Accuracy is 0.983\n",
      "        Current best Accuracy is 0.983\n",
      "        \n"
     ]
    },
    {
     "name": "stderr",
     "output_type": "stream",
     "text": [
      " 52%|█████▏    | 26/50 [13:35<13:33, 33.91s/it]"
     ]
    },
    {
     "name": "stdout",
     "output_type": "stream",
     "text": [
      "\n",
      "        Train Accuracy is 0.97\n",
      "        Validation Accuracy is 0.972\n",
      "        Current best Accuracy is 0.983\n",
      "        \n"
     ]
    },
    {
     "name": "stderr",
     "output_type": "stream",
     "text": [
      " 54%|█████▍    | 27/50 [14:07<12:50, 33.49s/it]"
     ]
    },
    {
     "name": "stdout",
     "output_type": "stream",
     "text": [
      "\n",
      "        Train Accuracy is 0.956\n",
      "        Validation Accuracy is 0.943\n",
      "        Current best Accuracy is 0.983\n",
      "        \n"
     ]
    },
    {
     "name": "stderr",
     "output_type": "stream",
     "text": [
      " 56%|█████▌    | 28/50 [14:40<12:10, 33.20s/it]"
     ]
    },
    {
     "name": "stdout",
     "output_type": "stream",
     "text": [
      "\n",
      "        Train Accuracy is 0.967\n",
      "        Validation Accuracy is 0.974\n",
      "        Current best Accuracy is 0.983\n",
      "        \n"
     ]
    },
    {
     "name": "stderr",
     "output_type": "stream",
     "text": [
      " 58%|█████▊    | 29/50 [15:14<11:47, 33.70s/it]"
     ]
    },
    {
     "name": "stdout",
     "output_type": "stream",
     "text": [
      "\n",
      "        Train Accuracy is 0.967\n",
      "        Validation Accuracy is 0.981\n",
      "        Current best Accuracy is 0.983\n",
      "        \n"
     ]
    },
    {
     "name": "stderr",
     "output_type": "stream",
     "text": [
      " 60%|██████    | 30/50 [15:46<11:02, 33.13s/it]"
     ]
    },
    {
     "name": "stdout",
     "output_type": "stream",
     "text": [
      "Best Trial Renewed\n",
      "\n",
      "        Train Accuracy is 0.978\n",
      "        Validation Accuracy is 0.986\n",
      "        Current best Accuracy is 0.986\n",
      "        \n"
     ]
    },
    {
     "name": "stderr",
     "output_type": "stream",
     "text": [
      " 62%|██████▏   | 31/50 [16:19<10:25, 32.92s/it]"
     ]
    },
    {
     "name": "stdout",
     "output_type": "stream",
     "text": [
      "\n",
      "        Train Accuracy is 0.982\n",
      "        Validation Accuracy is 0.949\n",
      "        Current best Accuracy is 0.986\n",
      "        \n"
     ]
    },
    {
     "name": "stderr",
     "output_type": "stream",
     "text": [
      " 64%|██████▍   | 32/50 [16:51<09:50, 32.80s/it]"
     ]
    },
    {
     "name": "stdout",
     "output_type": "stream",
     "text": [
      "\n",
      "        Train Accuracy is 0.982\n",
      "        Validation Accuracy is 0.972\n",
      "        Current best Accuracy is 0.986\n",
      "        \n"
     ]
    },
    {
     "name": "stderr",
     "output_type": "stream",
     "text": [
      " 66%|██████▌   | 33/50 [17:23<09:12, 32.48s/it]"
     ]
    },
    {
     "name": "stdout",
     "output_type": "stream",
     "text": [
      "Best Trial Renewed\n",
      "\n",
      "        Train Accuracy is 0.974\n",
      "        Validation Accuracy is 0.987\n",
      "        Current best Accuracy is 0.987\n",
      "        \n"
     ]
    },
    {
     "name": "stderr",
     "output_type": "stream",
     "text": [
      " 68%|██████▊   | 34/50 [17:55<08:39, 32.47s/it]"
     ]
    },
    {
     "name": "stdout",
     "output_type": "stream",
     "text": [
      "\n",
      "        Train Accuracy is 0.97\n",
      "        Validation Accuracy is 0.958\n",
      "        Current best Accuracy is 0.987\n",
      "        \n"
     ]
    },
    {
     "name": "stderr",
     "output_type": "stream",
     "text": [
      " 70%|███████   | 35/50 [18:28<08:06, 32.45s/it]"
     ]
    },
    {
     "name": "stdout",
     "output_type": "stream",
     "text": [
      "\n",
      "        Train Accuracy is 0.973\n",
      "        Validation Accuracy is 0.975\n",
      "        Current best Accuracy is 0.987\n",
      "        \n"
     ]
    },
    {
     "name": "stderr",
     "output_type": "stream",
     "text": [
      " 72%|███████▏  | 36/50 [19:00<07:34, 32.47s/it]"
     ]
    },
    {
     "name": "stdout",
     "output_type": "stream",
     "text": [
      "\n",
      "        Train Accuracy is 0.978\n",
      "        Validation Accuracy is 0.973\n",
      "        Current best Accuracy is 0.987\n",
      "        \n"
     ]
    },
    {
     "name": "stderr",
     "output_type": "stream",
     "text": [
      " 74%|███████▍  | 37/50 [19:33<07:02, 32.46s/it]"
     ]
    },
    {
     "name": "stdout",
     "output_type": "stream",
     "text": [
      "\n",
      "        Train Accuracy is 0.97\n",
      "        Validation Accuracy is 0.977\n",
      "        Current best Accuracy is 0.987\n",
      "        \n"
     ]
    },
    {
     "name": "stderr",
     "output_type": "stream",
     "text": [
      " 76%|███████▌  | 38/50 [20:05<06:29, 32.48s/it]"
     ]
    },
    {
     "name": "stdout",
     "output_type": "stream",
     "text": [
      "\n",
      "        Train Accuracy is 0.971\n",
      "        Validation Accuracy is 0.975\n",
      "        Current best Accuracy is 0.987\n",
      "        \n"
     ]
    },
    {
     "name": "stderr",
     "output_type": "stream",
     "text": [
      " 78%|███████▊  | 39/50 [20:37<05:54, 32.18s/it]"
     ]
    },
    {
     "name": "stdout",
     "output_type": "stream",
     "text": [
      "\n",
      "        Train Accuracy is 0.966\n",
      "        Validation Accuracy is 0.978\n",
      "        Current best Accuracy is 0.987\n",
      "        \n"
     ]
    },
    {
     "name": "stderr",
     "output_type": "stream",
     "text": [
      " 80%|████████  | 40/50 [21:09<05:22, 32.25s/it]"
     ]
    },
    {
     "name": "stdout",
     "output_type": "stream",
     "text": [
      "\n",
      "        Train Accuracy is 0.98\n",
      "        Validation Accuracy is 0.916\n",
      "        Current best Accuracy is 0.987\n",
      "        \n"
     ]
    },
    {
     "name": "stderr",
     "output_type": "stream",
     "text": [
      " 82%|████████▏ | 41/50 [21:42<04:50, 32.32s/it]"
     ]
    },
    {
     "name": "stdout",
     "output_type": "stream",
     "text": [
      "\n",
      "        Train Accuracy is 0.972\n",
      "        Validation Accuracy is 0.981\n",
      "        Current best Accuracy is 0.987\n",
      "        \n"
     ]
    },
    {
     "name": "stderr",
     "output_type": "stream",
     "text": [
      " 84%|████████▍ | 42/50 [22:14<04:18, 32.36s/it]"
     ]
    },
    {
     "name": "stdout",
     "output_type": "stream",
     "text": [
      "\n",
      "        Train Accuracy is 0.978\n",
      "        Validation Accuracy is 0.975\n",
      "        Current best Accuracy is 0.987\n",
      "        \n"
     ]
    },
    {
     "name": "stderr",
     "output_type": "stream",
     "text": [
      " 86%|████████▌ | 43/50 [22:46<03:44, 32.14s/it]"
     ]
    },
    {
     "name": "stdout",
     "output_type": "stream",
     "text": [
      "\n",
      "        Train Accuracy is 0.978\n",
      "        Validation Accuracy is 0.978\n",
      "        Current best Accuracy is 0.987\n",
      "        \n"
     ]
    },
    {
     "name": "stderr",
     "output_type": "stream",
     "text": [
      " 88%|████████▊ | 44/50 [23:18<03:13, 32.25s/it]"
     ]
    },
    {
     "name": "stdout",
     "output_type": "stream",
     "text": [
      "\n",
      "        Train Accuracy is 0.976\n",
      "        Validation Accuracy is 0.976\n",
      "        Current best Accuracy is 0.987\n",
      "        \n"
     ]
    },
    {
     "name": "stderr",
     "output_type": "stream",
     "text": [
      " 90%|█████████ | 45/50 [23:51<02:41, 32.32s/it]"
     ]
    },
    {
     "name": "stdout",
     "output_type": "stream",
     "text": [
      "\n",
      "        Train Accuracy is 0.983\n",
      "        Validation Accuracy is 0.986\n",
      "        Current best Accuracy is 0.987\n",
      "        \n"
     ]
    },
    {
     "name": "stderr",
     "output_type": "stream",
     "text": [
      " 92%|█████████▏| 46/50 [24:22<02:08, 32.12s/it]"
     ]
    },
    {
     "name": "stdout",
     "output_type": "stream",
     "text": [
      "\n",
      "        Train Accuracy is 0.973\n",
      "        Validation Accuracy is 0.963\n",
      "        Current best Accuracy is 0.987\n",
      "        \n"
     ]
    },
    {
     "name": "stderr",
     "output_type": "stream",
     "text": [
      " 94%|█████████▍| 47/50 [24:55<01:36, 32.20s/it]"
     ]
    },
    {
     "name": "stdout",
     "output_type": "stream",
     "text": [
      "\n",
      "        Train Accuracy is 0.975\n",
      "        Validation Accuracy is 0.973\n",
      "        Current best Accuracy is 0.987\n",
      "        \n"
     ]
    },
    {
     "name": "stderr",
     "output_type": "stream",
     "text": [
      " 96%|█████████▌| 48/50 [25:23<01:02, 31.13s/it]"
     ]
    },
    {
     "name": "stdout",
     "output_type": "stream",
     "text": [
      "\n",
      "        Train Accuracy is 0.965\n",
      "        Validation Accuracy is 0.973\n",
      "        Current best Accuracy is 0.987\n",
      "        \n"
     ]
    },
    {
     "name": "stderr",
     "output_type": "stream",
     "text": [
      " 98%|█████████▊| 49/50 [25:52<00:30, 30.37s/it]"
     ]
    },
    {
     "name": "stdout",
     "output_type": "stream",
     "text": [
      "\n",
      "        Train Accuracy is 0.958\n",
      "        Validation Accuracy is 0.98\n",
      "        Current best Accuracy is 0.987\n",
      "        \n"
     ]
    },
    {
     "name": "stderr",
     "output_type": "stream",
     "text": [
      "100%|██████████| 50/50 [26:21<00:00, 31.62s/it]"
     ]
    },
    {
     "name": "stdout",
     "output_type": "stream",
     "text": [
      "\n",
      "        Train Accuracy is 0.978\n",
      "        Validation Accuracy is 0.981\n",
      "        Current best Accuracy is 0.987\n",
      "        \n"
     ]
    },
    {
     "name": "stderr",
     "output_type": "stream",
     "text": [
      "\n"
     ]
    }
   ],
   "source": [
    "train(resnet50,train_loader,val_loader,\n",
    "criterion,50,0.00005,device,weight_name='resnet_fine_tuning')"
   ]
  },
  {
   "cell_type": "markdown",
   "metadata": {},
   "source": [
    "# 출력층을 별도로 학습한 뒤 전체 레이어를 fine-Tuning하는 방안 "
   ]
  },
  {
   "cell_type": "code",
   "execution_count": 57,
   "metadata": {},
   "outputs": [
    {
     "name": "stdout",
     "output_type": "stream",
     "text": [
      "0.865\n"
     ]
    }
   ],
   "source": [
    "resnet50 = models.resnet50(pretrained=False).to(device)\n",
    "weight=torch.load('./runs/resnet/output_trained_once.pt')\n",
    "\n",
    "def inference(model,test_loader,weight,device):\n",
    "\n",
    "    model.fc = nn.Linear(model.fc.in_features, 1).to(device)\n",
    "    model.load_state_dict(weight)\n",
    "\n",
    "    test_correct=0\n",
    "    count=0\n",
    "\n",
    "    model.eval()\n",
    "    with torch.no_grad():\n",
    "        for xx,yy in test_loader:\n",
    "            xx=xx.to(device)\n",
    "            yy=yy.to(device)\n",
    "            output=model(xx)\n",
    "            predicted=torch.round(torch.sigmoid(output))\n",
    "            count+=yy.size(0)\n",
    "            test_correct+=(predicted==yy.unsqueeze(1)).sum().item()\n",
    "\n",
    "    print(round(test_correct/count,3))\n",
    "\n",
    "inference(resnet50,test_loader,weight,device)"
   ]
  },
  {
   "cell_type": "markdown",
   "metadata": {},
   "source": [
    "# 전체 레이어를 학습하는, resnet의 backbone만 사용하는 fine-Tuning 방안 "
   ]
  },
  {
   "cell_type": "code",
   "execution_count": 58,
   "metadata": {},
   "outputs": [
    {
     "name": "stdout",
     "output_type": "stream",
     "text": [
      "0.981\n"
     ]
    }
   ],
   "source": [
    "weight=torch.load('./runs/resnet/resnet_fine_tuning.pt')\n",
    "inference(resnet50,test_loader,weight,device)"
   ]
  }
 ],
 "metadata": {
  "kernelspec": {
   "display_name": "Python 3.8.12 ('Seung')",
   "language": "python",
   "name": "python3"
  },
  "language_info": {
   "codemirror_mode": {
    "name": "ipython",
    "version": 3
   },
   "file_extension": ".py",
   "mimetype": "text/x-python",
   "name": "python",
   "nbconvert_exporter": "python",
   "pygments_lexer": "ipython3",
   "version": "3.8.12"
  },
  "orig_nbformat": 4,
  "vscode": {
   "interpreter": {
    "hash": "1c6ca86ae8a4c9c04cb5b2b8f7ca6faa07d31212a24bf041652ca6cd1d628541"
   }
  }
 },
 "nbformat": 4,
 "nbformat_minor": 2
}
